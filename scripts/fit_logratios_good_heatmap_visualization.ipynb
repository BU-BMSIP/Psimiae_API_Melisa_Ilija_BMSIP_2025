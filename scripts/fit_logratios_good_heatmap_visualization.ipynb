{
 "cells": [
  {
   "cell_type": "code",
   "execution_count": null,
   "metadata": {},
   "outputs": [],
   "source": [
    "# For working with tables\n",
    "import pandas as pd\n",
    "# For plotting\n",
    "import matplotlib.pyplot as plt  \n",
    "# Improves the heatmap visual\n",
    "import seaborn as sns           \n",
    "\n",
    "# Load the CSV file\n",
    "file_path = \"fit_logratios_good.csv\"  # path to your file\n",
    "df = pd.read_csv(file_path)\n",
    "\n",
    "# Drop metadata columns, keeps just the log-ratio values\n",
    "logratio_data = df.drop(columns=['locusId', 'sysName', 'desc', 'comb'])\n",
    "\n",
    "# Calculates the variance for each gene across all conditions\n",
    "variances = logratio_data.var(axis=1)\n",
    "\n",
    "# Find the top 20 most variable genes\n",
    "top_indices = variances.nlargest(20).index\n",
    "top_genes = logratio_data.loc[top_indices]\n",
    "\n",
    "# use sysName as the y-axis gene labels\n",
    "gene_labels = df.loc[top_indices, 'sysName']\n",
    "\n",
    "# set up the figure with automatic layout adjustment\n",
    "plt.figure(figsize=(24, 12), constrained_layout=True)\n",
    "\n",
    "# Visualizes the heatmap\n",
    "sns.heatmap(\n",
    "    top_genes,\n",
    "    yticklabels=gene_labels,      # Shows the gene labels on the y-axis\n",
    "    cmap=\"RdBu_r\",                # Diverges the color map\n",
    "    center=0,                     # Centers the color scale at zero\n",
    "    cbar_kws={'label': 'Log2 Fold Change'}  # Shows the colorbar label\n",
    ")\n",
    "\n",
    "# Adds the title and axis labels\n",
    "plt.title(\"Heatmap of Top 20 Most Variable Genes Across Conditions\")\n",
    "plt.xlabel(\"Conditions\")\n",
    "plt.ylabel(\"Genes\")\n",
    "\n",
    "# Rotates and sizes the x-axis labels for readability\n",
    "plt.xticks(rotation=45, ha='right', fontsize=6)\n",
    "plt.yticks(fontsize=9)\n",
    "\n",
    "# Displays the plot\n",
    "plt.show()\n"
   ]
  }
 ],
 "metadata": {
  "language_info": {
   "name": "python"
  },
  "orig_nbformat": 4
 },
 "nbformat": 4,
 "nbformat_minor": 2
}
